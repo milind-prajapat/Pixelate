{
 "cells": [
  {
   "cell_type": "code",
   "execution_count": null,
   "metadata": {},
   "outputs": [],
   "source": [
    "from Pixelate import Pixelate "
   ]
  },
  {
   "cell_type": "code",
   "execution_count": null,
   "metadata": {},
   "outputs": [],
   "source": [
    "from cv2 import aruco"
   ]
  },
  {
   "cell_type": "code",
   "execution_count": null,
   "metadata": {},
   "outputs": [],
   "source": [
    "import pretty_errors\n",
    "pretty_errors.configure(separator_character = '-',\n",
    "                        filename_display    = pretty_errors.FILENAME_EXTENDED,\n",
    "                        line_number_first   = True,\n",
    "                        display_link        = True,\n",
    "                        lines_before        = 5,\n",
    "                        lines_after         = 2,\n",
    "                        line_color          = pretty_errors.RED + '> ' + pretty_errors.default_config.line_color,\n",
    "                        code_color          = '  ' + pretty_errors.default_config.line_color,\n",
    "                        truncate_code       = True,\n",
    "                        display_locals      = True)\n",
    "pretty_errors.blacklist('c:/python')"
   ]
  },
  {
   "cell_type": "code",
   "execution_count": null,
   "metadata": {},
   "outputs": [],
   "source": [
    "Pixelate(6,6,'pix_sample_arena-v0',aruco.DICT_ARUCO_ORIGINAL,107)\n",
    "print(Pixelate.arena)"
   ]
  }
 ],
 "metadata": {
  "kernelspec": {
   "display_name": "Python 3",
   "language": "python",
   "name": "python3"
  },
  "language_info": {
   "codemirror_mode": {
    "name": "ipython",
    "version": 3
   },
   "file_extension": ".py",
   "mimetype": "text/x-python",
   "name": "python",
   "nbconvert_exporter": "python",
   "pygments_lexer": "ipython3",
   "version": "3.7.8"
  }
 },
 "nbformat": 4,
 "nbformat_minor": 4
}
