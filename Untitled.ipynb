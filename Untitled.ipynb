{
 "cells": [
  {
   "cell_type": "code",
   "execution_count": 1,
   "metadata": {},
   "outputs": [],
   "source": [
    "from Pixelate import Pixelate "
   ]
  },
  {
   "cell_type": "code",
   "execution_count": 2,
   "metadata": {},
   "outputs": [],
   "source": [
    "from cv2 import aruco"
   ]
  },
  {
   "cell_type": "code",
   "execution_count": 3,
   "metadata": {
    "scrolled": true
   },
   "outputs": [],
   "source": [
    "import numpy as np\n",
    "#Pixelate(6,6,'pix_sample_arena-v0',aruco.DICT_ARUCO_ORIGINAL,107)\n",
    "#arena = Pixelate.arena"
   ]
  },
  {
   "cell_type": "code",
   "execution_count": 15,
   "metadata": {},
   "outputs": [],
   "source": [
    "arena = [[ 5 , 2,  4 , 0 , 3 ,91],         \n",
    "         [ 2 , 0,  2 , 0 , 1 , 2],\n",
    "         [ 3 , 2,  1 , 4 , 3 , 2],\n",
    "         [ 0, 17 , 2  ,1 , 0 , 1],\n",
    "         [ 2 , 1 , 1 , 0 , 0 , 1],\n",
    "         [77 , 0 , 4 , 2 , 2 , 2]]"
   ]
  },
  {
   "cell_type": "code",
   "execution_count": 17,
   "metadata": {},
   "outputs": [
    {
     "name": "stdout",
     "output_type": "stream",
     "text": [
      "[13]\n"
     ]
    }
   ],
   "source": [
    "def adj_v(num):\n",
    "    global arena\n",
    "    '''returns a list containing all the adjacent vertices of the given vertex'''\n",
    "    x = num//6\n",
    "    y = num%6\n",
    "    list = []\n",
    "    if x==0 and arena[x][y]%17 != 0 and arena[x][y]%19 != 0 and arena[x][y]%29 != 0 :\n",
    "        list.append((x+1)*6 + y)\n",
    "    elif x== 5 and arena[x][y]%19 != 0 and arena[x][y]%23 != 0 and arena[x][y]%29 != 0 :\n",
    "        list.append((x-1)*6 + y)\n",
    "    else:\n",
    "        if arena[x][y]%17 != 0 and arena[x][y]%19 != 0 and arena[x][y]%29 != 0 :\n",
    "            list.append((x+1)*6 + y)\n",
    "        if arena[x][y]%19 != 0 and arena[x][y]%23 != 0 and arena[x][y]%29 != 0 :\n",
    "            list.append((x-1)*6 + y)\n",
    "    if y == 0 and arena[x][y]%17 != 0 and arena[x][y]%23 != 0 and arena[x][y]%29 != 0 :\n",
    "        list.append((x*6) + (y+1))\n",
    "    elif y== 5:\n",
    "        list.append((x)*6 + (y-1))\n",
    "    else:\n",
    "        if arena[x][y]%17 != 0 and arena[x][y]%23 != 0 and arena[x][y]%29 != 0 :\n",
    "            list.append((x*6) + (y+1))\n",
    "        if arena[x][y]%17 != 0 and arena[x][y]%19 != 0 and arena[x][y]%23 != 0 :\n",
    "            list.append((x)*6 + (y-1))\n",
    "        \n",
    "           \n",
    "    return list\n",
    "print(adj_v(19))"
   ]
  },
  {
   "cell_type": "code",
   "execution_count": 18,
   "metadata": {},
   "outputs": [
    {
     "name": "stdout",
     "output_type": "stream",
     "text": [
      "<class 'int'>\n"
     ]
    }
   ],
   "source": [
    "def h_val(v1,v2):\n",
    "    '''returns heuristic distance (here manhattan distance) of the vertex to the destination'''\n",
    "    x1 = v1//6\n",
    "    y1 = v1%6\n",
    "    x2 = v2//6\n",
    "    y2 = v2%6\n",
    "    return (abs(x2-x1)+abs(y1-y2))\n",
    "print(type(h_val(35,34)))"
   ]
  },
  {
   "cell_type": "code",
   "execution_count": 19,
   "metadata": {},
   "outputs": [],
   "source": [
    "def cal_weight(v):\n",
    "    val = 1\n",
    "    if v<5:\n",
    "        val = v\n",
    "    elif v%17==0:\n",
    "        val = v//17\n",
    "    elif v%19==0:\n",
    "        val = v//19\n",
    "    elif v%23==0:\n",
    "        val = v//23\n",
    "    elif v%29==0:\n",
    "        val = v//29\n",
    "    return val"
   ]
  },
  {
   "cell_type": "code",
   "execution_count": 45,
   "metadata": {},
   "outputs": [
    {
     "name": "stdout",
     "output_type": "stream",
     "text": [
      "[[0 0]]\n",
      "0\n",
      "<class 'int'>\n"
     ]
    }
   ],
   "source": [
    "# dest1 = np.where(Pixelate.arena == 1,x,y)\n",
    "# dest1 = Pixelate.reveal\n",
    "dest1 = np.array([[0,0]])   # change this accordingly\n",
    "print(dest1)\n",
    "dest1 = int(dest1[0][0]*6 + dest1[0][1])\n",
    "print(dest1)\n",
    "print(type(dest1))\n",
    "open = []\n",
    "close = []\n",
    "start = 35\n",
    "curr = start\n"
   ]
  },
  {
   "cell_type": "code",
   "execution_count": 46,
   "metadata": {
    "scrolled": true
   },
   "outputs": [],
   "source": [
    "path_arr = [[0 for c in range(4)] for r in range(36)]\n",
    "path_arr = np.array(path_arr)\n",
    "for i in range(0,36):\n",
    "    path_arr[i][0] = i\n",
    "    path_arr[i][1] = h_val(i, dest1)\n",
    "path_arr[curr][3] = curr"
   ]
  },
  {
   "cell_type": "code",
   "execution_count": 47,
   "metadata": {},
   "outputs": [
    {
     "name": "stdout",
     "output_type": "stream",
     "text": [
      "35\n",
      "[29  9  1 35]\n",
      "[34  9  2 35]\n",
      "29\n",
      "[23  8  2 29]\n",
      "34\n",
      "[33  8  3 34]\n",
      "23\n",
      "[17  7  3 23]\n",
      "33\n",
      "[32  7  4 33]\n",
      "17\n",
      "[11  6  4 17]\n",
      "[16  6  4 17]\n",
      "32\n",
      "[26  6  5 32]\n",
      "11\n",
      "[ 5  5  5 11]\n",
      "[10  5  5 11]\n",
      "16\n",
      "[10  5  5 11]\n",
      "[15  5  5 16]\n",
      "26\n",
      "[20  5  6 26]\n",
      "[25  5  6 26]\n",
      "5\n",
      "[4 4 9 5]\n",
      "10\n",
      "[4 4 9 5]\n",
      "15\n",
      "[21  6  6 15]\n",
      "[14  4  6 15]\n",
      "20\n",
      "[14  4  7 20]\n",
      "[21  6  7 20]\n",
      "[19  4  7 20]\n",
      "25\n",
      "[19  4  7 20]\n",
      "[24  4  7 25]\n",
      "21\n",
      "14\n",
      "[ 8  3  8 14]\n",
      "[13  3  8 14]\n",
      "19\n",
      "[13  3  8 14]\n",
      "24\n",
      "[30  5  8 24]\n",
      "8\n",
      "[ 2  2 10  8]\n",
      "13\n",
      "[12  2  9 13]\n",
      "30\n",
      "4\n",
      "12\n",
      "[ 6  1 10 12]\n",
      "2\n",
      "[ 1  1 11  2]\n",
      "6\n",
      "[ 0  0 10  6]\n"
     ]
    }
   ],
   "source": [
    "\"\"\"in this function I have restriction cyan and pink tiles from the path\"\"\"\n",
    "while(curr!=dest1 ):\n",
    "    X = curr//6\n",
    "    Y = curr%6\n",
    "    print(curr)\n",
    "    list = adj_v(curr)\n",
    "#     print(list)     #--------\n",
    "    for i in list:\n",
    "        if i not in close:\n",
    "            x = i//6\n",
    "            y = i%6 \n",
    "            nval = arena[x][y]\n",
    "            if nval==0 or nval==7:  #change these values when making path for different destination\n",
    "                continue\n",
    "            else:\n",
    "                weight = cal_weight(i)\n",
    "                g = path_arr[curr][2] + weight\n",
    "                f = g + h\n",
    "                if path_arr[i][2] == 0 or path_arr[i][2]<f:\n",
    "                    path_arr[i][2] = f\n",
    "                    path_arr[i][3] = curr\n",
    "                if i not in open:\n",
    "                    open.append(i)\n",
    "                print(path_arr[i][:])  #---------\n",
    "\n",
    "      #1 inserting curr in closed  \n",
    "    close.append(curr)\n",
    "     #2 popping the value from the list\n",
    "    o_val = open[0]\n",
    "    f_value = path_arr[o_val,2]\n",
    "    f_min = f_value\n",
    "    j = o_val\n",
    "    for i in open[1:]:\n",
    "        f_value = path_arr[i,2]       \n",
    "        if f_min>f_value:\n",
    "            f_min = f_value\n",
    "            j = i\n",
    "    open.remove(j)\n",
    "    curr = j\n",
    "\n",
    "    "
   ]
  },
  {
   "cell_type": "code",
   "execution_count": 51,
   "metadata": {},
   "outputs": [
    {
     "name": "stdout",
     "output_type": "stream",
     "text": [
      "[[5, 5], [5, 4], [5, 3], [5, 2], [4, 2], [3, 2], [2, 2], [2, 1], [2, 0], [1, 0], [0, 0]]\n"
     ]
    }
   ],
   "source": [
    "'''printing path'''\n",
    "# print(path_arr)\n",
    "node = dest1\n",
    "path = [[0,0]]\n",
    "while node != start:\n",
    "    node = int(path_arr[node][3])\n",
    "    x = node//6\n",
    "    y = node%6\n",
    "    path.append([x,y])\n",
    "print(path[::-1])"
   ]
  },
  {
   "cell_type": "markdown",
   "metadata": {},
   "source": [
    "Milind's Code Start Here"
   ]
  },
  {
   "cell_type": "code",
   "execution_count": 24,
   "metadata": {},
   "outputs": [],
   "source": [
    "import math\n",
    "import numpy as np\n",
    "from Pixelate import Pixelate"
   ]
  },
  {
   "cell_type": "code",
   "execution_count": 25,
   "metadata": {},
   "outputs": [
    {
     "name": "stdout",
     "output_type": "stream",
     "text": [
      "[[4 1 3 0 5 2]\n",
      " [1 0 1 0 6 1]\n",
      " [5 1 6 3 5 1]\n",
      " [0 6 1 6 0 6]\n",
      " [1 6 6 0 0 6]\n",
      " [2 0 3 1 1 7]]\n",
      "Instructions:\n",
      "Crop The Image To Arena Size, press c to cancel if cropping is not required\n",
      "Select White Color\n",
      "Select Green Color\n",
      "Select Yellow Color\n",
      "Select Red Color\n",
      "Select Pink Color\n",
      "Select Cyan Color\n",
      "Select Blue Color\n"
     ]
    },
    {
     "data": {
      "text/plain": [
       "<Pixelate.Pixelate at 0x29a96c0cf70>"
      ]
     },
     "execution_count": 25,
     "metadata": {},
     "output_type": "execute_result"
    }
   ],
   "source": [
    "Pixelate(6,6,\"pix_sample_arena-v0\",16,107)"
   ]
  },
  {
   "cell_type": "code",
   "execution_count": 26,
   "metadata": {},
   "outputs": [],
   "source": [
    "def get_node(coordinate):\n",
    "    return coordinate[0]*Pixelate.n_rows + coordinate[1]"
   ]
  },
  {
   "cell_type": "code",
   "execution_count": 27,
   "metadata": {},
   "outputs": [],
   "source": [
    "def get_coordinate(node):\n",
    "    return [int(node/Pixelate.n_rows), node % Pixelate.n_cols]"
   ]
  },
  {
   "cell_type": "code",
   "execution_count": 28,
   "metadata": {},
   "outputs": [],
   "source": [
    "def Manhattan_Distance(coordinate_1, coordinate_2):\n",
    "    return abs(coordinate_1[0] - coordinate_2[0]) + abs(coordinate_1[1] - coordinate_2[1])"
   ]
  },
  {
   "cell_type": "code",
   "execution_count": 29,
   "metadata": {},
   "outputs": [],
   "source": [
    "def get_adjacent(node):\n",
    "    adjacent_node_dict = {}\n",
    "    x,y = get_coordinate(node)\n",
    "    \n",
    "    for index, (x,y) in enumerate([[x+1,y],[x,y-1],[x-1,y],[x,y+1]]):\n",
    "        new_node = get_node([x,y])\n",
    "        if all([x >= 0, y >= 0, x < Pixelate.n_rows, y < Pixelate.n_cols]) and all([not new_node in Closed, Pixelate.arena[x][y] != 0]):        \n",
    "            if new_node == destination:\n",
    "                adjacent_node_dict[new_node] = 0\n",
    "            elif Pixelate.arena[x][y] in [1,2,3,4]:\n",
    "                adjacent_node_dict[new_node] = Pixelate.arena[x][y]\n",
    "            else:\n",
    "                One_Ways = [Pixelate.arena[x][y] % Pixelate.interpretation_dict[\"Blue Triangle 0\"],\n",
    "                            Pixelate.arena[x][y] % Pixelate.interpretation_dict[\"Blue Triangle 90\"],\n",
    "                            Pixelate.arena[x][y] % Pixelate.interpretation_dict[\"Blue Triangle 180\"],\n",
    "                            Pixelate.arena[x][y] % Pixelate.interpretation_dict[\"Blue Triangle 270\"]]\n",
    "                \n",
    "                One_Ways_Cost = [int(Pixelate.arena[x][y] / Pixelate.interpretation_dict[\"Blue Triangle 0\"]),\n",
    "                                 int(Pixelate.arena[x][y] / Pixelate.interpretation_dict[\"Blue Triangle 90\"]),\n",
    "                                 int(Pixelate.arena[x][y] / Pixelate.interpretation_dict[\"Blue Triangle 180\"]),\n",
    "                                 int(Pixelate.arena[x][y] / Pixelate.interpretation_dict[\"Blue Triangle 270\"])]\n",
    "                \n",
    "                if 0 in One_Ways and One_Ways.index(0) != index:\n",
    "                    adjacent_node_dict[new_node] = One_Ways_Cost[One_Ways.index(0)]\n",
    "                    \n",
    "    return adjacent_node_dict"
   ]
  },
  {
   "cell_type": "code",
   "execution_count": 31,
   "metadata": {},
   "outputs": [],
   "source": [
    "initial = get_node([5,5])\n",
    "destination = get_node([0,0])"
   ]
  },
  {
   "cell_type": "code",
   "execution_count": 32,
   "metadata": {},
   "outputs": [],
   "source": [
    "current_node = initial\n",
    "\n",
    "Table = np.zeros([Pixelate.n_rows*Pixelate.n_cols,4], np.float)\n",
    "Open = [current_node]\n",
    "Closed = []\n",
    "\n",
    "for i in range(Pixelate.n_rows*Pixelate.n_cols):\n",
    "    if i!= initial:\n",
    "        Table[i][0] = math.inf\n",
    "        Table[i][1] = Manhattan_Distance(get_coordinate(destination), get_coordinate(i))\n",
    "        Table[i][2] = math.inf\n",
    "        Table[i][3] = -1\n",
    "    else:\n",
    "        Table[i][0] = 0\n",
    "        Table[i][2] = Table[i][0] + Table[i][1]\n",
    "        Table[i][3] = initial"
   ]
  },
  {
   "cell_type": "code",
   "execution_count": 33,
   "metadata": {},
   "outputs": [],
   "source": [
    "while current_node != destination:  \n",
    "    adjacent_nodes = get_adjacent(current_node)\n",
    "    for node in adjacent_nodes:\n",
    "        if Table[node][0] > Table[current_node][0] + adjacent_nodes[node]:\n",
    "            Table[node][0] = Table[current_node][0] + adjacent_nodes[node] \n",
    "            Table[node][2] = Table[node][0] + Table[node][1]\n",
    "            Table[node][3] = current_node\n",
    "        if node not in Open:\n",
    "            Open.append(node)\n",
    "            \n",
    "    Open.remove(current_node)\n",
    "    Closed.append(current_node)\n",
    "    \n",
    "    best_node = None\n",
    "    best_f_value = math.inf\n",
    "    \n",
    "    for node in Open:\n",
    "        if Table[node][2] < best_f_value:\n",
    "            best_node = node\n",
    "            best_f_value = Table[node][2]\n",
    "     \n",
    "    current_node = best_node"
   ]
  },
  {
   "cell_type": "code",
   "execution_count": 34,
   "metadata": {},
   "outputs": [
    {
     "name": "stdout",
     "output_type": "stream",
     "text": [
      "[[5, 5], [5, 4], [5, 3], [5, 2], [4, 2], [4, 1], [3, 1], [2, 1], [2, 0], [1, 0], [0, 0]]\n"
     ]
    }
   ],
   "source": [
    "node = destination\n",
    "Path = [get_coordinate(node)]\n",
    "while node != initial:\n",
    "    node = int(Table[node][3])\n",
    "    Path.append(get_coordinate(node))\n",
    "    \n",
    "print(Path[::-1])"
   ]
  }
 ],
 "metadata": {
  "kernelspec": {
   "display_name": "Python 3",
   "language": "python",
   "name": "python3"
  },
  "language_info": {
   "codemirror_mode": {
    "name": "ipython",
    "version": 3
   },
   "file_extension": ".py",
   "mimetype": "text/x-python",
   "name": "python",
   "nbconvert_exporter": "python",
   "pygments_lexer": "ipython3",
   "version": "3.8.5"
  }
 },
 "nbformat": 4,
 "nbformat_minor": 4
}
