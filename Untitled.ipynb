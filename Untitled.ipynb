{
 "cells": [
  {
   "cell_type": "code",
   "execution_count": 1,
   "metadata": {},
   "outputs": [],
   "source": [
    "from Pixelate import Pixelate "
   ]
  },
  {
   "cell_type": "code",
   "execution_count": 2,
   "metadata": {},
   "outputs": [],
   "source": [
    "from cv2 import aruco"
   ]
  },
  {
   "cell_type": "code",
   "execution_count": 3,
   "metadata": {
    "scrolled": true
   },
   "outputs": [],
   "source": [
    "import numpy as np\n",
    "# Pixelate(6,6,'pix_sample_arena-v0',aruco.DICT_ARUCO_ORIGINAL,107)\n",
    "# print(Pixelate.arena)\n",
    "# arena = Pixelate.arena\n",
    "arena = [[ 5 , 2,  4 , 0 , 3 ,91],\n",
    "         [ 2 , 0,  2 , 0 , 1 , 2],\n",
    "         [ 3 , 2,  1 , 4 , 3 , 2],\n",
    "         [ 0, 17 , 2  ,1 , 0 , 1],\n",
    "         [ 2 , 1 , 1 , 0 , 0 , 1],\n",
    "         [77 , 0 , 4 , 2 , 2 , 2]]\n",
    "arena = np.array(arena)"
   ]
  },
  {
   "cell_type": "code",
   "execution_count": 4,
   "metadata": {
    "scrolled": true
   },
   "outputs": [
    {
     "name": "stdout",
     "output_type": "stream",
     "text": [
      "[[ 0  0  0]\n",
      " [ 1  0  0]\n",
      " [ 2  0  0]\n",
      " [ 3  0  0]\n",
      " [ 4  0  0]\n",
      " [ 5  0  0]\n",
      " [ 6  0  0]\n",
      " [ 7  0  0]\n",
      " [ 8  0  0]\n",
      " [ 9  0  0]\n",
      " [10  0  0]\n",
      " [11  0  0]\n",
      " [12  0  0]\n",
      " [13  0  0]\n",
      " [14  0  0]\n",
      " [15  0  0]\n",
      " [16  0  0]\n",
      " [17  0  0]\n",
      " [18  0  0]\n",
      " [19  0  0]\n",
      " [20  0  0]\n",
      " [21  0  0]\n",
      " [22  0  0]\n",
      " [23  0  0]\n",
      " [24  0  0]\n",
      " [25  0  0]\n",
      " [26  0  0]\n",
      " [27  0  0]\n",
      " [28  0  0]\n",
      " [29  0  0]\n",
      " [30  0  0]\n",
      " [31  0  0]\n",
      " [32  0  0]\n",
      " [33  0  0]\n",
      " [34  0  0]\n",
      " [35  0  0]]\n"
     ]
    }
   ],
   "source": [
    "\n",
    "info_dict = {'vertex':0, 'distance from start(g)':1, 'heuristic distance(h)':2, \n",
    "              'f=g+h':3,'previous vertex':4}\n",
    "path_arr = [[0 for c in range(3)] for r in range(36)]\n",
    "path_arr = np.array(path_arr)\n",
    "for i in range(0,36):\n",
    "    path_arr[i,0] = i\n",
    "print(path_arr)"
   ]
  },
  {
   "cell_type": "code",
   "execution_count": 5,
   "metadata": {},
   "outputs": [],
   "source": [
    "def adj_v(num):\n",
    "    '''returns a list containing all the adjacent vertices of the given vertex'''\n",
    "    x = num//6\n",
    "    y = num%6\n",
    "    list = []\n",
    "    if x==0:\n",
    "        list.append((x+1)*6 + y)\n",
    "    elif x== 5:\n",
    "        list.append((x-1)*6 + y)\n",
    "    else:\n",
    "        list.append((x+1)*6 + y)\n",
    "        list.append((x-1)*6 + y)\n",
    "    if y == 0:\n",
    "        list.append((x*6) + (y+1))\n",
    "    elif y== 5:\n",
    "        list.append((x)*6 + (y-1))\n",
    "    else:\n",
    "        list.append((x*6) + (y+1))\n",
    "        list.append((x)*6 + (y-1))\n",
    "    return list\n",
    "# print(adj_v(1))"
   ]
  },
  {
   "cell_type": "code",
   "execution_count": 14,
   "metadata": {},
   "outputs": [
    {
     "name": "stdout",
     "output_type": "stream",
     "text": [
      "<class 'int'>\n"
     ]
    }
   ],
   "source": [
    "def h_val(v1,v2):\n",
    "    '''returns heuristic distance (here manhattan distance) of the vertex to the destination'''\n",
    "    x1 = v1//6\n",
    "    y1 = v1%6\n",
    "    x2 = v2//6\n",
    "    y2 = v2%6\n",
    "    return (abs(x2-x1)+abs(y1-y2))\n",
    "print(type(h_val(35,34)))"
   ]
  },
  {
   "cell_type": "code",
   "execution_count": 7,
   "metadata": {},
   "outputs": [
    {
     "name": "stdout",
     "output_type": "stream",
     "text": [
      "2\n"
     ]
    }
   ],
   "source": [
    "# def cal_weight(v):\n",
    "#     val = 0\n",
    "#     if v<5:\n",
    "#         val = v\n",
    "#     elif v%17==0:\n",
    "#         val = v//17\n",
    "#     elif v%19==0:\n",
    "#         val = v//19\n",
    "#     elif v%23==0:\n",
    "#         val = v//23\n",
    "#     elif v%29==0:\n",
    "#         val = v//29\n",
    "#     return val\n",
    "\n",
    "def cal_weight(v):\n",
    "    if v<5:\n",
    "        return v\n",
    "    elif v%17==0:\n",
    "        return v//17\n",
    "    elif v%19==0:\n",
    "        return v//19\n",
    "    elif v%23==0:\n",
    "        return v//23\n",
    "    elif v%29==0:\n",
    "        return v//29\n",
    "\n",
    "\n",
    "print(cal_weight(38))"
   ]
  },
  {
   "cell_type": "code",
   "execution_count": 8,
   "metadata": {},
   "outputs": [
    {
     "name": "stdout",
     "output_type": "stream",
     "text": [
      "[[0 0]]\n",
      "0\n",
      "<class 'int'>\n"
     ]
    }
   ],
   "source": [
    "# dest1 = np.where(Pixelate.arena == 1,x,y)\n",
    "# dest1 = Pixelate.reveal\n",
    "dest1 = np.array([[0,0]])   # change this accordingly\n",
    "print(dest1)\n",
    "dest1 = int(dest1[0][0]*6 + dest1[0][1])\n",
    "print(dest1)\n",
    "print(type(dest1))\n",
    "open = []\n",
    "close = []\n",
    "start = 35\n",
    "# close.append(35)\n",
    "# curr = close[len(close)-1]\n",
    "curr = start\n",
    "g = 0\n",
    "h = h_val(curr,dest1)\n",
    "path_arr[curr,1] = g + h\n"
   ]
  },
  {
   "cell_type": "code",
   "execution_count": 10,
   "metadata": {},
   "outputs": [
    {
     "name": "stdout",
     "output_type": "stream",
     "text": [
      "28\n",
      "33\n"
     ]
    },
    {
     "ename": "TypeError",
     "evalue": "unsupported operand type(s) for +: 'int' and 'NoneType'",
     "output_type": "error",
     "traceback": [
      "\u001b[1;31m---------------------------------------------------------------------------\u001b[0m",
      "\u001b[1;31mTypeError\u001b[0m                                 Traceback (most recent call last)",
      "\u001b[1;32m<ipython-input-10-dd29df0c3651>\u001b[0m in \u001b[0;36m<module>\u001b[1;34m\u001b[0m\n\u001b[0;32m     25\u001b[0m             \u001b[1;32melse\u001b[0m\u001b[1;33m:\u001b[0m\u001b[1;33m\u001b[0m\u001b[1;33m\u001b[0m\u001b[0m\n\u001b[0;32m     26\u001b[0m                 \u001b[0mweight\u001b[0m \u001b[1;33m=\u001b[0m \u001b[0mcal_weight\u001b[0m\u001b[1;33m(\u001b[0m\u001b[0mi\u001b[0m\u001b[1;33m)\u001b[0m\u001b[1;33m\u001b[0m\u001b[1;33m\u001b[0m\u001b[0m\n\u001b[1;32m---> 27\u001b[1;33m                 \u001b[0mg\u001b[0m \u001b[1;33m=\u001b[0m \u001b[0mpath_arr\u001b[0m\u001b[1;33m[\u001b[0m\u001b[0mcurr\u001b[0m\u001b[1;33m,\u001b[0m\u001b[1;36m1\u001b[0m\u001b[1;33m]\u001b[0m \u001b[1;33m+\u001b[0m \u001b[0mweight\u001b[0m\u001b[1;33m\u001b[0m\u001b[1;33m\u001b[0m\u001b[0m\n\u001b[0m\u001b[0;32m     28\u001b[0m                 \u001b[0mh\u001b[0m \u001b[1;33m=\u001b[0m \u001b[0mh_val\u001b[0m\u001b[1;33m(\u001b[0m\u001b[0mi\u001b[0m\u001b[1;33m,\u001b[0m\u001b[0mint\u001b[0m\u001b[1;33m(\u001b[0m\u001b[0mdest1\u001b[0m\u001b[1;33m)\u001b[0m\u001b[1;33m)\u001b[0m\u001b[1;33m\u001b[0m\u001b[1;33m\u001b[0m\u001b[0m\n\u001b[0;32m     29\u001b[0m                 \u001b[0mf\u001b[0m \u001b[1;33m=\u001b[0m \u001b[0mg\u001b[0m \u001b[1;33m+\u001b[0m \u001b[0mh\u001b[0m\u001b[1;33m\u001b[0m\u001b[1;33m\u001b[0m\u001b[0m\n",
      "\u001b[1;31mTypeError\u001b[0m: unsupported operand type(s) for +: 'int' and 'NoneType'"
     ]
    }
   ],
   "source": [
    "\"\"\"in this function I have restriction cyan and pink tiles from the path\"\"\"\n",
    "while(dest1 not in open):\n",
    "    X = curr//6\n",
    "    Y = curr%6\n",
    "\n",
    "    if arena[X,Y]%17 == 0:\n",
    "        list.append((x-1)*6 + y)\n",
    "    elif arena[X,Y]%19 == 0:\n",
    "        list.append((x*6) + (y+1))\n",
    "    elif arena[X,Y]%23 == 0:\n",
    "        list.append((x+1)*6 + y)\n",
    "    elif arena[X,Y]%29 == 0:\n",
    "        list.append((x)*6 + (y-1))\n",
    "    else:\n",
    "        list = adj_v(curr)\n",
    "        \n",
    "    for i in list:\n",
    "        if i not in close:\n",
    "            print(i)\n",
    "            x = i//6\n",
    "            y = i%6 \n",
    "            nval = arena[x,y]\n",
    "            if nval==0 or nval==5 or nval==7:  #change these values when making path for different destination\n",
    "                continue\n",
    "            else:\n",
    "                weight = cal_weight(i)\n",
    "                g = path_arr[curr,1] + weight\n",
    "                h = h_val(i, dest1)\n",
    "                f = g + h\n",
    "                if path_arr[i,1] == 0 or path_arr[i,1]<f:\n",
    "                    path_arr[i,1] = f\n",
    "                    path_arr[i,2] = curr\n",
    "                open.append(i)\n",
    "\n",
    "      #1 inserting curr in closed  \n",
    "    close.append(curr)\n",
    "        \n",
    "     #2 popping the value from the list\n",
    "    f_value = path_arr[open[1],1]\n",
    "    f_min = f_value\n",
    "    j = open[1]\n",
    "    for i in open:\n",
    "        f_value = path_arr[i,1]       \n",
    "        if f_min>f_value:\n",
    "            f_min = f_value\n",
    "            j = i\n",
    "    open.remove(j)\n",
    "      #3 new value for curr from the open list\n",
    "    curr = j"
   ]
  },
  {
   "cell_type": "code",
   "execution_count": null,
   "metadata": {},
   "outputs": [],
   "source": [
    "'''printing path'''\n"
   ]
  },
  {
   "cell_type": "markdown",
   "metadata": {},
   "source": [
    "Milind's Code Start Here"
   ]
  },
  {
   "cell_type": "code",
   "execution_count": 1,
   "metadata": {},
   "outputs": [],
   "source": [
    "import numpy as np\n",
    "from Pixelate import Pixelate"
   ]
  },
  {
   "cell_type": "code",
   "execution_count": 4,
   "metadata": {},
   "outputs": [
    {
     "ename": "ConnectionRefusedError",
     "evalue": "Only one local in-process GUI/GUI_SERVER connection allowed. Use DIRECT connection mode or start a separate GUI physics server (ExampleBrowser, App_SharedMemoryPhysics_GUI, App_SharedMemoryPhysics_VR) and connect over SHARED_MEMORY, UDP or TCP instead.",
     "output_type": "error",
     "traceback": [
      "\u001b[1;31m---------------------------------------------------------------------------\u001b[0m",
      "\u001b[1;31merror\u001b[0m                                     Traceback (most recent call last)",
      "\u001b[1;32mD:\\Study Material\\Institute\\Pixelate\\Pixelate.py\u001b[0m in \u001b[0;36m__init__\u001b[1;34m(cls, n_rows, n_cols, env_name, aruco_dict, aruco_id)\u001b[0m\n\u001b[0;32m     79\u001b[0m         \u001b[1;32mtry\u001b[0m\u001b[1;33m:\u001b[0m\u001b[1;33m\u001b[0m\u001b[1;33m\u001b[0m\u001b[0m\n\u001b[1;32m---> 80\u001b[1;33m             \u001b[0mcls\u001b[0m\u001b[1;33m.\u001b[0m\u001b[0menv\u001b[0m \u001b[1;33m=\u001b[0m \u001b[0mgym\u001b[0m\u001b[1;33m.\u001b[0m\u001b[0mmake\u001b[0m\u001b[1;33m(\u001b[0m\u001b[0menv_name\u001b[0m\u001b[1;33m)\u001b[0m\u001b[1;33m\u001b[0m\u001b[1;33m\u001b[0m\u001b[0m\n\u001b[0m\u001b[0;32m     81\u001b[0m         \u001b[1;32mexcept\u001b[0m \u001b[0mException\u001b[0m \u001b[1;32mas\u001b[0m \u001b[0me\u001b[0m\u001b[1;33m:\u001b[0m\u001b[1;33m\u001b[0m\u001b[1;33m\u001b[0m\u001b[0m\n",
      "\u001b[1;32mc:\\users\\milind prajapat\\appdata\\local\\programs\\python\\python38\\lib\\site-packages\\gym\\envs\\registration.py\u001b[0m in \u001b[0;36mmake\u001b[1;34m(id, **kwargs)\u001b[0m\n\u001b[0;32m    144\u001b[0m \u001b[1;32mdef\u001b[0m \u001b[0mmake\u001b[0m\u001b[1;33m(\u001b[0m\u001b[0mid\u001b[0m\u001b[1;33m,\u001b[0m \u001b[1;33m**\u001b[0m\u001b[0mkwargs\u001b[0m\u001b[1;33m)\u001b[0m\u001b[1;33m:\u001b[0m\u001b[1;33m\u001b[0m\u001b[1;33m\u001b[0m\u001b[0m\n\u001b[1;32m--> 145\u001b[1;33m     \u001b[1;32mreturn\u001b[0m \u001b[0mregistry\u001b[0m\u001b[1;33m.\u001b[0m\u001b[0mmake\u001b[0m\u001b[1;33m(\u001b[0m\u001b[0mid\u001b[0m\u001b[1;33m,\u001b[0m \u001b[1;33m**\u001b[0m\u001b[0mkwargs\u001b[0m\u001b[1;33m)\u001b[0m\u001b[1;33m\u001b[0m\u001b[1;33m\u001b[0m\u001b[0m\n\u001b[0m\u001b[0;32m    146\u001b[0m \u001b[1;33m\u001b[0m\u001b[0m\n",
      "\u001b[1;32mc:\\users\\milind prajapat\\appdata\\local\\programs\\python\\python38\\lib\\site-packages\\gym\\envs\\registration.py\u001b[0m in \u001b[0;36mmake\u001b[1;34m(self, path, **kwargs)\u001b[0m\n\u001b[0;32m     89\u001b[0m         \u001b[0mspec\u001b[0m \u001b[1;33m=\u001b[0m \u001b[0mself\u001b[0m\u001b[1;33m.\u001b[0m\u001b[0mspec\u001b[0m\u001b[1;33m(\u001b[0m\u001b[0mpath\u001b[0m\u001b[1;33m)\u001b[0m\u001b[1;33m\u001b[0m\u001b[1;33m\u001b[0m\u001b[0m\n\u001b[1;32m---> 90\u001b[1;33m         \u001b[0menv\u001b[0m \u001b[1;33m=\u001b[0m \u001b[0mspec\u001b[0m\u001b[1;33m.\u001b[0m\u001b[0mmake\u001b[0m\u001b[1;33m(\u001b[0m\u001b[1;33m**\u001b[0m\u001b[0mkwargs\u001b[0m\u001b[1;33m)\u001b[0m\u001b[1;33m\u001b[0m\u001b[1;33m\u001b[0m\u001b[0m\n\u001b[0m\u001b[0;32m     91\u001b[0m         \u001b[1;31m# We used to have people override _reset/_step rather than\u001b[0m\u001b[1;33m\u001b[0m\u001b[1;33m\u001b[0m\u001b[1;33m\u001b[0m\u001b[0m\n",
      "\u001b[1;32mc:\\users\\milind prajapat\\appdata\\local\\programs\\python\\python38\\lib\\site-packages\\gym\\envs\\registration.py\u001b[0m in \u001b[0;36mmake\u001b[1;34m(self, **kwargs)\u001b[0m\n\u001b[0;32m     59\u001b[0m             \u001b[0mcls\u001b[0m \u001b[1;33m=\u001b[0m \u001b[0mload\u001b[0m\u001b[1;33m(\u001b[0m\u001b[0mself\u001b[0m\u001b[1;33m.\u001b[0m\u001b[0mentry_point\u001b[0m\u001b[1;33m)\u001b[0m\u001b[1;33m\u001b[0m\u001b[1;33m\u001b[0m\u001b[0m\n\u001b[1;32m---> 60\u001b[1;33m             \u001b[0menv\u001b[0m \u001b[1;33m=\u001b[0m \u001b[0mcls\u001b[0m\u001b[1;33m(\u001b[0m\u001b[1;33m**\u001b[0m\u001b[0m_kwargs\u001b[0m\u001b[1;33m)\u001b[0m\u001b[1;33m\u001b[0m\u001b[1;33m\u001b[0m\u001b[0m\n\u001b[0m\u001b[0;32m     61\u001b[0m \u001b[1;33m\u001b[0m\u001b[0m\n",
      "\u001b[1;32md:\\study material\\institute\\pixelate_sample_arena\\pix-sample-arena\\pix_sample_arena\\envs\\pix_sample.py\u001b[0m in \u001b[0;36m__init__\u001b[1;34m(self)\u001b[0m\n\u001b[0;32m     28\u001b[0m \u001b[1;33m\u001b[0m\u001b[0m\n\u001b[1;32m---> 29\u001b[1;33m                 \u001b[0mp\u001b[0m\u001b[1;33m.\u001b[0m\u001b[0mconnect\u001b[0m\u001b[1;33m(\u001b[0m\u001b[0mp\u001b[0m\u001b[1;33m.\u001b[0m\u001b[0mGUI\u001b[0m\u001b[1;33m)\u001b[0m\u001b[1;33m\u001b[0m\u001b[1;33m\u001b[0m\u001b[0m\n\u001b[0m\u001b[0;32m     30\u001b[0m                 \u001b[0mp\u001b[0m\u001b[1;33m.\u001b[0m\u001b[0msetAdditionalSearchPath\u001b[0m\u001b[1;33m(\u001b[0m\u001b[0mpybullet_data\u001b[0m\u001b[1;33m.\u001b[0m\u001b[0mgetDataPath\u001b[0m\u001b[1;33m(\u001b[0m\u001b[1;33m)\u001b[0m\u001b[1;33m)\u001b[0m\u001b[1;33m\u001b[0m\u001b[1;33m\u001b[0m\u001b[0m\n",
      "\u001b[1;31merror\u001b[0m: Only one local in-process GUI/GUI_SERVER connection allowed. Use DIRECT connection mode or start a separate GUI physics server (ExampleBrowser, App_SharedMemoryPhysics_GUI, App_SharedMemoryPhysics_VR) and connect over SHARED_MEMORY, UDP or TCP instead.",
      "\nDuring handling of the above exception, another exception occurred:\n",
      "\u001b[1;31mConnectionRefusedError\u001b[0m                    Traceback (most recent call last)",
      "\u001b[1;32m<ipython-input-4-aac1f1d26664>\u001b[0m in \u001b[0;36m<module>\u001b[1;34m\u001b[0m\n\u001b[1;32m----> 1\u001b[1;33m \u001b[0mPixelate\u001b[0m\u001b[1;33m(\u001b[0m\u001b[1;36m6\u001b[0m\u001b[1;33m,\u001b[0m\u001b[1;36m6\u001b[0m\u001b[1;33m,\u001b[0m\u001b[1;34m\"pix_sample_arena-v0\"\u001b[0m\u001b[1;33m,\u001b[0m\u001b[1;36m16\u001b[0m\u001b[1;33m,\u001b[0m\u001b[1;36m107\u001b[0m\u001b[1;33m)\u001b[0m\u001b[1;33m\u001b[0m\u001b[1;33m\u001b[0m\u001b[0m\n\u001b[0m",
      "\u001b[1;32mD:\\Study Material\\Institute\\Pixelate\\Pixelate.py\u001b[0m in \u001b[0;36m__init__\u001b[1;34m(cls, n_rows, n_cols, env_name, aruco_dict, aruco_id)\u001b[0m\n\u001b[0;32m     80\u001b[0m             \u001b[0mcls\u001b[0m\u001b[1;33m.\u001b[0m\u001b[0menv\u001b[0m \u001b[1;33m=\u001b[0m \u001b[0mgym\u001b[0m\u001b[1;33m.\u001b[0m\u001b[0mmake\u001b[0m\u001b[1;33m(\u001b[0m\u001b[0menv_name\u001b[0m\u001b[1;33m)\u001b[0m\u001b[1;33m\u001b[0m\u001b[1;33m\u001b[0m\u001b[0m\n\u001b[0;32m     81\u001b[0m         \u001b[1;32mexcept\u001b[0m \u001b[0mException\u001b[0m \u001b[1;32mas\u001b[0m \u001b[0me\u001b[0m\u001b[1;33m:\u001b[0m\u001b[1;33m\u001b[0m\u001b[1;33m\u001b[0m\u001b[0m\n\u001b[1;32m---> 82\u001b[1;33m             \u001b[1;32mraise\u001b[0m \u001b[0mConnectionRefusedError\u001b[0m\u001b[1;33m(\u001b[0m\u001b[0me\u001b[0m\u001b[1;33m)\u001b[0m\u001b[1;33m\u001b[0m\u001b[1;33m\u001b[0m\u001b[0m\n\u001b[0m\u001b[0;32m     83\u001b[0m \u001b[1;33m\u001b[0m\u001b[0m\n\u001b[0;32m     84\u001b[0m         \u001b[0mcls\u001b[0m\u001b[1;33m.\u001b[0m\u001b[0mn_rows\u001b[0m \u001b[1;33m=\u001b[0m \u001b[0mn_rows\u001b[0m\u001b[1;33m\u001b[0m\u001b[1;33m\u001b[0m\u001b[0m\n",
      "\u001b[1;31mConnectionRefusedError\u001b[0m: Only one local in-process GUI/GUI_SERVER connection allowed. Use DIRECT connection mode or start a separate GUI physics server (ExampleBrowser, App_SharedMemoryPhysics_GUI, App_SharedMemoryPhysics_VR) and connect over SHARED_MEMORY, UDP or TCP instead."
     ]
    }
   ],
   "source": [
    "Pixelate(6,6,\"pix_sample_arena-v0\",16,107)"
   ]
  }
 ],
 "metadata": {
  "kernelspec": {
   "display_name": "Python 3",
   "language": "python",
   "name": "python3"
  },
  "language_info": {
   "codemirror_mode": {
    "name": "ipython",
    "version": 3
   },
   "file_extension": ".py",
   "mimetype": "text/x-python",
   "name": "python",
   "nbconvert_exporter": "python",
   "pygments_lexer": "ipython3",
   "version": "3.8.5"
  }
 },
 "nbformat": 4,
 "nbformat_minor": 4
}
