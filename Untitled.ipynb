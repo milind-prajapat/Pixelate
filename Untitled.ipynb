{
 "cells": [
  {
   "cell_type": "code",
   "execution_count": null,
   "metadata": {},
   "outputs": [],
   "source": [
    "from Pixelate import Pixelate "
   ]
  },
  {
   "cell_type": "code",
   "execution_count": null,
   "metadata": {},
   "outputs": [],
   "source": [
    "from cv2 import aruco"
   ]
  },
  {
   "cell_type": "code",
   "execution_count": null,
   "metadata": {
    "scrolled": true
   },
   "outputs": [],
   "source": [
    "import numpy as np\n",
    "# Pixelate(6,6,'pix_sample_arena-v0',aruco.DICT_ARUCO_ORIGINAL,107)\n",
    "# print(Pixelate.arena)\n",
    "# arena = Pixelate.arena\n",
    "arena = [[ 5 , 2,  4 , 0 , 3 ,91],\n",
    "         [ 2 , 0,  2 , 0 , 1 , 2],\n",
    "         [ 3 , 2,  1 , 4 , 3 , 2],\n",
    "         [ 0, 17 , 2  ,1 , 0 , 1],\n",
    "         [ 2 , 1 , 1 , 0 , 0 , 1],\n",
    "         [77 , 0 , 4 , 2 , 2 , 2]]\n",
    "arena = np.array(arena)"
   ]
  },
  {
   "cell_type": "code",
   "execution_count": null,
   "metadata": {
    "scrolled": true
   },
   "outputs": [],
   "source": [
    "\n",
    "info_dict = {'vertex':0, 'distance from start(g)':1, 'heuristic distance(h)':2, \n",
    "              'f=g+h':3,'previous vertex':4}\n",
    "path_arr = [[0 for c in range(3)] for r in range(36)]\n",
    "path_arr = np.array(path_arr)\n",
    "for i in range(0,36):\n",
    "    path_arr[i,0] = i\n",
    "print(path_arr)"
   ]
  },
  {
   "cell_type": "code",
   "execution_count": null,
   "metadata": {},
   "outputs": [],
   "source": [
    "def adj_v(num):\n",
    "    '''returns a list containing all the adjacent vertices of the given vertex'''\n",
    "    x = num//6\n",
    "    y = num%6\n",
    "    list = []\n",
    "    if x==0:\n",
    "        list.append((x+1)*6 + y)\n",
    "    elif x== 5:\n",
    "        list.append((x-1)*6 + y)\n",
    "    else:\n",
    "        list.append((x+1)*6 + y)\n",
    "        list.append((x-1)*6 + y)\n",
    "    if y == 0:\n",
    "        list.append((x*6) + (y+1))\n",
    "    elif y== 5:\n",
    "        list.append((x)*6 + (y-1))\n",
    "    else:\n",
    "        list.append((x*6) + (y+1))\n",
    "        list.append((x)*6 + (y-1))\n",
    "    return list\n",
    "# print(adj_v(1))"
   ]
  },
  {
   "cell_type": "code",
   "execution_count": null,
   "metadata": {},
   "outputs": [],
   "source": [
    "def h_val(v1,v2):\n",
    "    '''returns heuristic distance (here manhattan distance) of the vertex to the destination'''\n",
    "    x1 = v1//6\n",
    "    y1 = v1%6\n",
    "    x2 = v2//6\n",
    "    y2 = v2%6\n",
    "    return (abs(x2-x1)+abs(y1-y2))\n",
    "print(type(h_val(35,34)))"
   ]
  },
  {
   "cell_type": "code",
   "execution_count": null,
   "metadata": {},
   "outputs": [],
   "source": [
    "# def cal_weight(v):\n",
    "#     val = 0\n",
    "#     if v<5:\n",
    "#         val = v\n",
    "#     elif v%17==0:\n",
    "#         val = v//17\n",
    "#     elif v%19==0:\n",
    "#         val = v//19\n",
    "#     elif v%23==0:\n",
    "#         val = v//23\n",
    "#     elif v%29==0:\n",
    "#         val = v//29\n",
    "#     return val\n",
    "\n",
    "def cal_weight(v):\n",
    "    if v<5:\n",
    "        return v\n",
    "    elif v%17==0:\n",
    "        return v//17\n",
    "    elif v%19==0:\n",
    "        return v//19\n",
    "    elif v%23==0:\n",
    "        return v//23\n",
    "    elif v%29==0:\n",
    "        return v//29\n",
    "\n",
    "\n",
    "print(cal_weight(38))"
   ]
  },
  {
   "cell_type": "code",
   "execution_count": null,
   "metadata": {},
   "outputs": [],
   "source": [
    "# dest1 = np.where(Pixelate.arena == 1,x,y)\n",
    "# dest1 = Pixelate.reveal\n",
    "dest1 = np.array([[0,0]])   # change this accordingly\n",
    "print(dest1)\n",
    "dest1 = int(dest1[0][0]*6 + dest1[0][1])\n",
    "print(dest1)\n",
    "print(type(dest1))\n",
    "open = []\n",
    "close = []\n",
    "start = 35\n",
    "# close.append(35)\n",
    "# curr = close[len(close)-1]\n",
    "curr = start\n",
    "g = 0\n",
    "h = h_val(curr,dest1)\n",
    "path_arr[curr,1] = g + h\n"
   ]
  },
  {
   "cell_type": "code",
   "execution_count": null,
   "metadata": {},
   "outputs": [],
   "source": [
    "\"\"\"in this function I have restriction cyan and pink tiles from the path\"\"\"\n",
    "while(dest1 not in open):\n",
    "    X = curr//6\n",
    "    Y = curr%6\n",
    "\n",
    "    if arena[X,Y]%17 == 0:\n",
    "        list.append((x-1)*6 + y)\n",
    "    elif arena[X,Y]%19 == 0:\n",
    "        list.append((x*6) + (y+1))\n",
    "    elif arena[X,Y]%23 == 0:\n",
    "        list.append((x+1)*6 + y)\n",
    "    elif arena[X,Y]%29 == 0:\n",
    "        list.append((x)*6 + (y-1))\n",
    "    else:\n",
    "        list = adj_v(curr)\n",
    "        \n",
    "    for i in list:\n",
    "        if i not in close:\n",
    "            print(i)\n",
    "            x = i//6\n",
    "            y = i%6 \n",
    "            nval = arena[x,y]\n",
    "            if nval==0 or nval==5 or nval==7:  #change these values when making path for different destination\n",
    "                continue\n",
    "            else:\n",
    "                weight = cal_weight(i)\n",
    "                g = path_arr[curr,1] + weight\n",
    "                h = h_val(i, dest1)\n",
    "                f = g + h\n",
    "                if path_arr[i,1] == 0 or path_arr[i,1]<f:\n",
    "                    path_arr[i,1] = f\n",
    "                    path_arr[i,2] = curr\n",
    "                open.append(i)\n",
    "\n",
    "      #1 inserting curr in closed  \n",
    "    close.append(curr)\n",
    "        \n",
    "     #2 popping the value from the list\n",
    "    f_value = path_arr[open[1],1]\n",
    "    f_min = f_value\n",
    "    j = open[1]\n",
    "    for i in open:\n",
    "        f_value = path_arr[i,1]       \n",
    "        if f_min>f_value:\n",
    "            f_min = f_value\n",
    "            j = i\n",
    "    open.remove(j)\n",
    "      #3 new value for curr from the open list\n",
    "    curr = j"
   ]
  },
  {
   "cell_type": "code",
   "execution_count": null,
   "metadata": {},
   "outputs": [],
   "source": [
    "'''printing path'''\n"
   ]
  },
  {
   "cell_type": "markdown",
   "metadata": {},
   "source": [
    "Milind's Code Start Here"
   ]
  },
  {
   "cell_type": "code",
   "execution_count": null,
   "metadata": {},
   "outputs": [],
   "source": [
    "import math\n",
    "import numpy as np\n",
    "from Pixelate import Pixelate"
   ]
  },
  {
   "cell_type": "code",
   "execution_count": null,
   "metadata": {},
   "outputs": [],
   "source": [
    "Pixelate(6,6,\"pix_sample_arena-v0\",16,107)"
   ]
  },
  {
   "cell_type": "code",
   "execution_count": null,
   "metadata": {},
   "outputs": [],
   "source": [
    "def get_node(coordinate):\n",
    "    return coordinate[0]*Pixelate.n_rows + coordinate[1]"
   ]
  },
  {
   "cell_type": "code",
   "execution_count": null,
   "metadata": {},
   "outputs": [],
   "source": [
    "def get_coordinate(node):\n",
    "    return [int(node/Pixelate.n_rows), node % Pixelate.n_cols]"
   ]
  },
  {
   "cell_type": "code",
   "execution_count": null,
   "metadata": {},
   "outputs": [],
   "source": [
    "def Manhattan_Distance(coordinate_1, coordinate_2):\n",
    "    return abs(coordinate_1[0] - coordinate_2[0]) + abs(coordinate_1[1] - coordinate_2[1])"
   ]
  },
  {
   "cell_type": "code",
   "execution_count": null,
   "metadata": {},
   "outputs": [],
   "source": [
    "def get_adjacent(node):\n",
    "    adjacent_node_dict = {}\n",
    "    x,y = get_coordinate(node)\n",
    "    \n",
    "    for index, (x,y) in enumerate([[x+1,y],[x,y-1],[x-1,y],[x,y+1]]):\n",
    "        new_node = get_node([x,y])\n",
    "        if all([x >= 0, y >= 0, x < Pixelate.n_rows, y < Pixelate.n_cols]) and all([not new_node in Closed, Pixelate.arena[x][y] != 0]):        \n",
    "            if new_node == destination:\n",
    "                adjacent_node_dict[new_node] = 0\n",
    "            elif Pixelate.arena[x][y] in [1,2,3,4]:\n",
    "                adjacent_node_dict[new_node] = Pixelate.arena[x][y]\n",
    "            else:\n",
    "                One_Ways = [Pixelate.arena[x][y] % Pixelate.interpretation_dict[\"Blue Triangle 0\"],\n",
    "                            Pixelate.arena[x][y] % Pixelate.interpretation_dict[\"Blue Triangle 90\"],\n",
    "                            Pixelate.arena[x][y] % Pixelate.interpretation_dict[\"Blue Triangle 180\"],\n",
    "                            Pixelate.arena[x][y] % Pixelate.interpretation_dict[\"Blue Triangle 270\"]]\n",
    "\n",
    "                One_Ways_Cost = [int(Pixelate.arena[x][y] / Pixelate.interpretation_dict[\"Blue Triangle 0\"]),\n",
    "                                 int(Pixelate.arena[x][y] / Pixelate.interpretation_dict[\"Blue Triangle 90\"]),\n",
    "                                 int(Pixelate.arena[x][y] / Pixelate.interpretation_dict[\"Blue Triangle 180\"]),\n",
    "                                 int(Pixelate.arena[x][y] / Pixelate.interpretation_dict[\"Blue Triangle 270\"])]\n",
    "                \n",
    "                if 0 in One_Ways and One_Ways.index(0) != index:\n",
    "                    adjacent_node_dict[new_node] = One_Ways_Cost[One_Ways.index(0)]\n",
    "                    \n",
    "    return adjacent_node_dict"
   ]
  },
  {
   "cell_type": "code",
   "execution_count": null,
   "metadata": {},
   "outputs": [],
   "source": [
    "initial = get_node([0,2])\n",
    "destination = get_node([6,3])"
   ]
  },
  {
   "cell_type": "code",
   "execution_count": null,
   "metadata": {},
   "outputs": [],
   "source": [
    "current_node = initial\n",
    "\n",
    "Table = np.zeros([Pixelate.n_rows*Pixelate.n_cols,4], np.float)\n",
    "Open = [current_node]\n",
    "Closed = []\n",
    "\n",
    "for i in range(Pixelate.n_rows*Pixelate.n_cols):\n",
    "    if i!= initial:\n",
    "        Table[i][0] = math.inf\n",
    "        Table[i][1] = Manhattan_Distance(get_coordinate(initial), get_coordinate(i))\n",
    "        Table[i][2] = math.inf\n",
    "        Table[i][3] = -1\n",
    "    else:\n",
    "        Table[i][0] = 0\n",
    "        Table[i][2] = Table[i][0] + Table[i][1]\n",
    "        Table[i][3] = initial"
   ]
  },
  {
   "cell_type": "code",
   "execution_count": null,
   "metadata": {},
   "outputs": [],
   "source": [
    "while current_node != destination:  \n",
    "    adjacent_nodes = get_adjacent(current_node)\n",
    "    for node in adjacent_nodes:\n",
    "        if Table[node][0] > Table[current_node][0] + adjacent_nodes[node]:\n",
    "            Table[node][0] = Table[current_node][0] + adjacent_nodes[node] \n",
    "            Table[node][2] = Table[node][0] + Table[node][1]\n",
    "            Table[node][3] = current_node\n",
    "        if node not in Open:\n",
    "            Open.append(node)\n",
    "    \n",
    "    Open.remove(current_node)\n",
    "    Closed.append(current_node)\n",
    "    \n",
    "    best_node = None\n",
    "    best_f_value = math.inf\n",
    "    for node in Open:\n",
    "        if Table[node][2] < best_f_value:\n",
    "            best_node = node\n",
    "            best_f_value = Table[node][2]\n",
    "     \n",
    "    current_node = best_node"
   ]
  },
  {
   "cell_type": "code",
   "execution_count": null,
   "metadata": {},
   "outputs": [],
   "source": [
    "node = destination\n",
    "Path = [get_coordinate(node)]\n",
    "while node != initial:\n",
    "    node = int(Table[node][3])\n",
    "    Path.append(get_coordinate(node))\n",
    "\n",
    "print(Path[::-1])"
   ]
  }
 ],
 "metadata": {
  "kernelspec": {
   "display_name": "Python 3",
   "language": "python",
   "name": "python3"
  },
  "language_info": {
   "codemirror_mode": {
    "name": "ipython",
    "version": 3
   },
   "file_extension": ".py",
   "mimetype": "text/x-python",
   "name": "python",
   "nbconvert_exporter": "python",
   "pygments_lexer": "ipython3",
   "version": "3.8.5"
  }
 },
 "nbformat": 4,
 "nbformat_minor": 4
}
